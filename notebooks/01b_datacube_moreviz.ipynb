{
 "cells": [
  {
   "cell_type": "markdown",
   "id": "4a29be80-320d-46a2-94ce-c0ca303b7e8f",
   "metadata": {},
   "source": [
    "# More visualisations"
   ]
  },
  {
   "cell_type": "code",
   "execution_count": null,
   "id": "cf03c882-c22e-4a08-bb21-1819a6a081ae",
   "metadata": {},
   "outputs": [],
   "source": [
    "import os\n",
    "import pandas as pd\n",
    "import numpy as np\n",
    "import xarray as xr\n",
    "import dask as da\n",
    "import zarr\n",
    "import holoviews as hv\n",
    "import hvplot.xarray\n",
    "import matplotlib.pyplot as plt\n",
    "\n",
    "from chaosmagpy.plot_utils import nio_colormap\n",
    "\n",
    "TMPDIR = os.getcwd()\n",
    "zarr_store = os.path.join(TMPDIR, \"datacube_test.zarr\")\n",
    "print(\"Using:\", zarr_store)\n",
    "\n",
    "xr.set_options(\n",
    "    display_expand_attrs=False,\n",
    "    display_expand_data_vars=True\n",
    ");"
   ]
  },
  {
   "cell_type": "code",
   "execution_count": null,
   "id": "20d0e563-8a72-4414-92f6-8526bb21c5c8",
   "metadata": {},
   "outputs": [],
   "source": [
    "ds = xr.open_dataset(\n",
    "    zarr_store, engine=\"zarr\",\n",
    ")\n",
    "# Dataset downsampled by 1/30 (i.e. 5-minute sampling)\n",
    "_ds = ds.isel(Timestamp=slice(0, -1, 30))"
   ]
  },
  {
   "cell_type": "code",
   "execution_count": null,
   "id": "dcd0a72c-d4f3-4e1b-ae22-192eba044e79",
   "metadata": {},
   "outputs": [],
   "source": [
    "def make_plots(labels=True, titles=True):\n",
    "    plots = {}\n",
    "    for NEC in \"NEC\":\n",
    "        kwargs = dict()\n",
    "        if not labels:\n",
    "            kwargs[\"xlabel\"] = \"\"\n",
    "            kwargs[\"ylabel\"] = \"\"\n",
    "        plots[f\"{NEC}_core\"] = (\n",
    "            _ds.drop(\"Timestamp\").sel(NEC=NEC)\n",
    "            .hvplot.scatter(\n",
    "                x=\"Longitude\", y=\"Latitude\", c=\"B_NEC\",\n",
    "                rasterize=True,\n",
    "                colorbar=False,\n",
    "                hover=False,\n",
    "                width=300, height=200,\n",
    "                clim=(-50000, 50000), cmap=nio_colormap(),\n",
    "                title=f\"B_{NEC} (GEO)\" if titles else \"\",\n",
    "                **kwargs\n",
    "            )\n",
    "        )\n",
    "        plots[f\"{NEC}_iono\"] = (\n",
    "            _ds.drop(\"Timestamp\").sel(NEC=NEC)\n",
    "            .hvplot.scatter(\n",
    "                x=\"Longitude\", y=\"Latitude\", c=\"B_NEC_res_CHAOS-full\",\n",
    "                rasterize=True,\n",
    "                colorbar=False,\n",
    "                hover=False,\n",
    "                tools=[],\n",
    "                width=300, height=200,\n",
    "                clim=(-50, 50), cmap=nio_colormap(),\n",
    "                title=f\"B_{NEC}_res_CHAOS-full (GEO)\" if titles else \"\",\n",
    "                **kwargs\n",
    "            )\n",
    "        )\n",
    "        plots[f\"{NEC}_iono_qdmlt\"] = (\n",
    "            _ds.drop(\"Timestamp\").sel(NEC=NEC)\n",
    "            .hvplot.scatter(\n",
    "                x=\"MLT\", y=\"QDLat\", c=\"B_NEC_res_CHAOS-full\" if titles else \"\",\n",
    "                rasterize=True,\n",
    "                colorbar=False,\n",
    "                hover=False,\n",
    "                tools=[],\n",
    "                width=300, height=200,\n",
    "                clim=(-50, 50), cmap=nio_colormap(),\n",
    "                title=f\"B_{NEC}_res_CHAOS-full (QDMLT)\",\n",
    "                **kwargs\n",
    "            )\n",
    "        )\n",
    "    return plots"
   ]
  },
  {
   "cell_type": "code",
   "execution_count": null,
   "id": "e1520f51-ff5c-4d39-b1a5-ac6f4fbc01bc",
   "metadata": {},
   "outputs": [],
   "source": [
    "plots = make_plots(labels=False, titles=True)"
   ]
  },
  {
   "cell_type": "code",
   "execution_count": null,
   "id": "053803b4-4c30-428e-a8d5-2610fc645160",
   "metadata": {},
   "outputs": [],
   "source": [
    "(\n",
    "    plots[\"N_core\"] + plots[\"N_iono\"] + plots[\"N_iono_qdmlt\"] +\n",
    "    plots[\"E_core\"] + plots[\"E_iono\"] + plots[\"E_iono_qdmlt\"] +\n",
    "    plots[\"C_core\"] + plots[\"C_iono\"] + plots[\"C_iono_qdmlt\"]\n",
    ").cols(3)"
   ]
  },
  {
   "cell_type": "code",
   "execution_count": null,
   "id": "14b80754-0db3-4740-a2f3-ace99184d84d",
   "metadata": {},
   "outputs": [],
   "source": [
    "# # can't set dpi with bokeh (matplotlib backend bugs too)\n",
    "# # -> adjust the size and save that instead\n",
    "# hv.save(\n",
    "#     (\n",
    "#         plots[\"N_core\"] + plots[\"N_iono\"] + plots[\"N_iono_qdmlt\"] +\n",
    "#         plots[\"E_core\"] + plots[\"E_iono\"] + plots[\"E_iono_qdmlt\"] +\n",
    "#         plots[\"C_core\"] + plots[\"C_iono\"] + plots[\"C_iono_qdmlt\"]\n",
    "#     ).cols(3).opts(width=1000, height=500),\n",
    "#     f\"datacube.png\"\n",
    "# )"
   ]
  }
 ],
 "metadata": {
  "kernelspec": {
   "display_name": "Python [conda env:geomagcubes]",
   "language": "python",
   "name": "conda-env-geomagcubes-py"
  },
  "language_info": {
   "codemirror_mode": {
    "name": "ipython",
    "version": 3
   },
   "file_extension": ".py",
   "mimetype": "text/x-python",
   "name": "python",
   "nbconvert_exporter": "python",
   "pygments_lexer": "ipython3",
   "version": "3.8.12"
  }
 },
 "nbformat": 4,
 "nbformat_minor": 5
}
