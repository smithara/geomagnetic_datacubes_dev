{
 "cells": [
  {
   "cell_type": "markdown",
   "id": "72f982df-dca5-4f38-aee0-d66ed2cf35ee",
   "metadata": {},
   "source": [
    "# Overview of datacube and quicklooks"
   ]
  },
  {
   "cell_type": "markdown",
   "id": "da479290-3802-4cda-ade6-dfc162016969",
   "metadata": {},
   "source": [
    "This notebook shows a few examples for how to access the datacube."
   ]
  },
  {
   "cell_type": "markdown",
   "id": "81f666d9-60fc-45eb-8044-c1513ca3ec8b",
   "metadata": {},
   "source": [
    "## Environment setup"
   ]
  },
  {
   "cell_type": "code",
   "execution_count": null,
   "id": "1c8436d0-8d43-472d-b358-e8463f927431",
   "metadata": {
    "tags": []
   },
   "outputs": [],
   "source": [
    "import os\n",
    "import pooch\n",
    "import pandas as pd\n",
    "import numpy as np\n",
    "import xarray as xr\n",
    "import dask as da\n",
    "from dask.diagnostics import ProgressBar\n",
    "import zarr\n",
    "import holoviews as hv\n",
    "import hvplot.xarray\n",
    "import matplotlib.pyplot as plt\n",
    "\n",
    "from chaosmagpy.plot_utils import nio_colormap\n",
    "\n",
    "from src.env import ICOS_FILE, REFRAD\n",
    "\n",
    "TMPDIR = os.getcwd()\n",
    "zarr_store = os.path.join(TMPDIR, \"datacube_test.zarr\")\n",
    "print(\"Using:\", zarr_store)\n",
    "\n",
    "xr.set_options(\n",
    "    display_expand_attrs=False,\n",
    "    display_expand_data_vars=True\n",
    ");"
   ]
  },
  {
   "cell_type": "markdown",
   "id": "93c902ef-c552-4f7a-ba7d-20a040357084",
   "metadata": {},
   "source": [
    "Data can be opened easily with [xarray](https://docs.xarray.dev) (but could be done more directly with [zarr](https://zarr.readthedocs.io)):"
   ]
  },
  {
   "cell_type": "code",
   "execution_count": null,
   "id": "0e2d0f9b-542d-4fb9-aec1-11775f3e53d8",
   "metadata": {},
   "outputs": [],
   "source": [
    "ds = xr.open_dataset(zarr_store, engine=\"zarr\")\n",
    "ds"
   ]
  },
  {
   "cell_type": "markdown",
   "id": "b4884a62-6dfc-4c8f-852e-e08d27730f0e",
   "metadata": {},
   "source": [
    "Above we show the html representation from xarray. Click the buttons at the right to see the metadata and variable contents. Lean more about xarray at https://foundations.projectpythia.org\n",
    "\n",
    "Numpy arrays can be extracted with calls like:"
   ]
  },
  {
   "cell_type": "code",
   "execution_count": null,
   "id": "65b60c9c-2d5f-422f-854d-375626424e36",
   "metadata": {},
   "outputs": [],
   "source": [
    "ds[\"B_NEC\"].data"
   ]
  },
  {
   "cell_type": "markdown",
   "id": "0c7b8d40-3e66-449d-934c-6aae16c653c9",
   "metadata": {},
   "source": [
    "## Diagnostics of data"
   ]
  },
  {
   "cell_type": "markdown",
   "id": "33a93f86-1f3b-4f80-993e-dc41df684665",
   "metadata": {},
   "source": [
    "Assuming input 1Hz data, this is how much the data has been decimated by  \n",
    "(i.e. it is 10s sampling, with a bit more lost due to quality Flags)"
   ]
  },
  {
   "cell_type": "code",
   "execution_count": null,
   "id": "bf4541ee-c705-4488-beb0-86cc7a5f9d11",
   "metadata": {},
   "outputs": [],
   "source": [
    "timedelta_ns = float(ds[\"Timestamp\"].isel(Timestamp=-1) - ds[\"Timestamp\"].isel(Timestamp=0))\n",
    "print(\"Fraction of input data:\", len(ds[\"Timestamp\"]) / (timedelta_ns/1e9))"
   ]
  },
  {
   "cell_type": "markdown",
   "id": "63fa5c51-6b2b-44a0-b288-b95d95fc989b",
   "metadata": {},
   "source": [
    "### Spatial variation of magnetic field data, and data-model residuals"
   ]
  },
  {
   "cell_type": "markdown",
   "id": "4b1c9f52-5bcd-404c-87d9-821ceb9af173",
   "metadata": {},
   "source": [
    "Do some tricks to generate manageable summary images...\n",
    "\n",
    "First downsample again so we don't needlessly work with all the data just for these visualisations:"
   ]
  },
  {
   "cell_type": "code",
   "execution_count": null,
   "id": "3f466810-7d28-4e24-aba0-c5b39cc7b4ae",
   "metadata": {},
   "outputs": [],
   "source": [
    "# Dataset downsampled by 1/30 (i.e. 5-minute sampling)\n",
    "_ds = ds.isel(Timestamp=slice(0, -1, 30))\n",
    "# Generate residuals to plot\n",
    "_ds[\"B_NEC_res_CHAOS-full\"] = (\n",
    "    _ds[\"B_NEC\"]\n",
    "    - _ds[\"B_NEC_CHAOS-MCO\"]\n",
    "    - _ds[\"B_NEC_CHAOS-MMA\"]\n",
    "    - _ds[\"B_NEC_CHAOS-Static_n16plus\"]\n",
    ")"
   ]
  },
  {
   "cell_type": "markdown",
   "id": "85cb222f-d21c-4937-b207-91fddb7c8d06",
   "metadata": {},
   "source": [
    "These next plots use `hvplot` (using `holoviews`) underneath to generate interactive `bokeh` plots - this is quite tricky to work with so better left alone until you have mastered `matplotlib`."
   ]
  },
  {
   "cell_type": "code",
   "execution_count": null,
   "id": "c9645bfc-298b-4380-9665-f70bcf5d4cb3",
   "metadata": {
    "tags": []
   },
   "outputs": [],
   "source": [
    "def plot_NEC_var(_ds=_ds, var=\"B_NEC\", qdmlt=False, **kwargs):\n",
    "    if qdmlt:\n",
    "        x, y = \"MLT\", \"QDLat\"\n",
    "    else:\n",
    "        x, y = \"Longitude\", \"Latitude\"\n",
    "    return (\n",
    "        _ds.drop(\"Timestamp\")\n",
    "        .hvplot.scatter(\n",
    "            x=x, y=y, c=var,\n",
    "            by=\"NEC\", subplots=True,\n",
    "            rasterize=True,\n",
    "            colorbar=True,\n",
    "            hover=True,\n",
    "            width=300, height=200,\n",
    "            **kwargs\n",
    "        )\n",
    "    )\n",
    "\n",
    "\n",
    "print(\"B_NEC: magnetic field measurements\")\n",
    "plot_NEC_var(_ds=_ds, var=\"B_NEC\", clim=(-50000, 50000), cmap=nio_colormap())"
   ]
  },
  {
   "cell_type": "code",
   "execution_count": null,
   "id": "36ad6012-723d-4e04-8f7e-4ac680b0dbeb",
   "metadata": {},
   "outputs": [],
   "source": [
    "print(\"B_NEC_res_CHAOS-full: The effect of removing the full CHAOS model, comprising core, magnetosphere, and lithosphere. i.e. mostly space weather signals remaining\")\n",
    "plot_NEC_var(_ds, \"B_NEC_res_CHAOS-full\", clim=(-50, 50), cmap=nio_colormap())"
   ]
  },
  {
   "cell_type": "code",
   "execution_count": null,
   "id": "dbcc77f9-8a15-4949-b318-ff4a17473843",
   "metadata": {},
   "outputs": [],
   "source": [
    "print(\"As above, but in QDLat / MLT coordinates\")\n",
    "plot_NEC_var(_ds, \"B_NEC_res_CHAOS-full\", qdmlt=True, clim=(-50, 50), cmap=nio_colormap())"
   ]
  },
  {
   "cell_type": "markdown",
   "id": "ecff1611-82ee-4bdf-b14f-1ae4ab0b7eb9",
   "metadata": {},
   "source": [
    "### Histograms of residuals"
   ]
  },
  {
   "cell_type": "code",
   "execution_count": null,
   "id": "61deebf2-f75b-4268-840d-c317e7da13d3",
   "metadata": {},
   "outputs": [],
   "source": [
    "fig, axes = plt.subplots(ncols=3, figsize=(12, 3))\n",
    "bins = np.linspace(-100, 100, 100)\n",
    "_ds[\"B_NEC_res_CHAOS-full\"].sel(NEC=\"N\").plot.hist(bins=bins, ax=axes[0]);\n",
    "_ds[\"B_NEC_res_CHAOS-full\"].sel(NEC=\"E\").plot.hist(bins=bins, ax=axes[1]);\n",
    "_ds[\"B_NEC_res_CHAOS-full\"].sel(NEC=\"C\").plot.hist(bins=bins, ax=axes[2]);\n",
    "axes[0].set_ylabel(\"Number\");"
   ]
  },
  {
   "cell_type": "markdown",
   "id": "8476342a-bb16-4eeb-8f1f-eb856e036c1a",
   "metadata": {},
   "source": [
    "### Spread of residuals, under different data selections"
   ]
  },
  {
   "cell_type": "code",
   "execution_count": null,
   "id": "74dfb508-4aed-4a07-b2bc-bcf09763687f",
   "metadata": {},
   "outputs": [],
   "source": [
    "# Masks to use for data subselection\n",
    "# There are still a few outliers remaining in the data\n",
    "#   -detect where the residual is anomalously large:\n",
    "outliers = np.fabs((_ds[\"B_NEC_res_CHAOS-full\"]**2).sum(axis=1)) > 2000**2\n",
    "nightside = ~outliers & (_ds[\"SunZenithAngle\"] > 100)\n",
    "nightside_quiet = nightside & (_ds[\"Kp\"] < 3)\n",
    "nightside_quiet_low_MEF = nightside_quiet & (_ds[\"IMF_Em\"] < 0.8)"
   ]
  },
  {
   "cell_type": "code",
   "execution_count": null,
   "id": "421fa342-1f4d-4b38-bc9b-b0d8c2f8302e",
   "metadata": {},
   "outputs": [],
   "source": [
    "def _plot_stdvs(_ds, ax, title):\n",
    "    (\n",
    "        _ds\n",
    "       .groupby_bins(\"QDLat\", 90)\n",
    "       .std()[\"B_NEC_res_CHAOS-full\"]\n",
    "       .plot.line(x=\"QDLat_bins\", ax=ax)\n",
    "    )\n",
    "    ax.set_title(title)\n",
    "    ax.set_ylabel(\"\")\n",
    "\n",
    "\n",
    "fig, axes = plt.subplots(ncols=4, figsize=(20, 5), sharey=True, sharex=True)\n",
    "_plot_stdvs(_ds.where(~outliers), axes[0], \"Without data selection\")\n",
    "_plot_stdvs(_ds.where(nightside), axes[1], \"Night\")\n",
    "_plot_stdvs(_ds.where(nightside_quiet), axes[2], \"Night; Kp<3\")\n",
    "_plot_stdvs(_ds.where(nightside_quiet_low_MEF), axes[3], \"Night; Kp<3; $E_m$<0.8\")\n",
    "axes[0].set_ylim((0, 150))\n",
    "axes[0].set_ylabel(\"B_NEC_res, standard deviations [nT]\");"
   ]
  },
  {
   "cell_type": "markdown",
   "id": "c23f8a68-be41-45f6-9112-250fe9545fd7",
   "metadata": {},
   "source": [
    "Above: the spread of residuals found under increasingly stringent data selection; i.e. why we typically use geomagnetically quiet nightside data for internal field modelling. For a deeper dive on this, see https://swarm.magneticearth.org/notebooks/04a1_geomag-models-vires"
   ]
  },
  {
   "cell_type": "markdown",
   "id": "cf356cc3-9488-48be-a666-dcaa97aadfae",
   "metadata": {},
   "source": [
    "### Begin exploring relationships between parameters..."
   ]
  },
  {
   "cell_type": "code",
   "execution_count": null,
   "id": "18b54ded-1357-4640-bfe0-8ec518945282",
   "metadata": {},
   "outputs": [],
   "source": [
    "north_auroral_oval = (_ds[\"QDLat\"] > 60) & (_ds[\"QDLat\"] < 80)\n",
    "(\n",
    "    _ds.where(north_auroral_oval & ~outliers, drop=True)\n",
    "    .drop(\"Timestamp\")\n",
    "    .sel(NEC=\"C\")\n",
    "    .plot.scatter(\n",
    "        x=\"IMF_Em\", y=\"B_NEC_res_CHAOS-full\", s=1\n",
    "    )\n",
    ")"
   ]
  },
  {
   "cell_type": "markdown",
   "id": "4cb52eaf-495d-4e0f-a7e9-964bf372d28c",
   "metadata": {},
   "source": [
    "It is possible to find correlations between the residuals and solar wind parameters such as merging electric field (`IMF_Em` in the datacube; sometimes referred to as $E_m$). This needs to be explored also as a function of position within QDLat / MLT. See Figure 8.1 (page 135) in my thesis (https://doi.org/10.5281/zenodo.3952719)"
   ]
  },
  {
   "cell_type": "markdown",
   "id": "a78db3a8-b0d8-4fe6-84b3-d7b4e42eeb6d",
   "metadata": {},
   "source": [
    "### Temporal information"
   ]
  },
  {
   "cell_type": "code",
   "execution_count": null,
   "id": "97933b2e-a8d5-4b80-9067-13981939b476",
   "metadata": {},
   "outputs": [],
   "source": [
    "_ds[\"Altitude\"] = (_ds[\"Radius\"] - REFRAD)/1e3\n",
    "_ds[\"Altitude\"].attrs = {\"units\": \"km\"}\n",
    "_ds[\"Altitude\"].plot.line(x=\"Timestamp\");"
   ]
  }
 ],
 "metadata": {
  "kernelspec": {
   "display_name": "Python [conda env:geomagcubes]",
   "language": "python",
   "name": "conda-env-geomagcubes-py"
  },
  "language_info": {
   "codemirror_mode": {
    "name": "ipython",
    "version": 3
   },
   "file_extension": ".py",
   "mimetype": "text/x-python",
   "name": "python",
   "nbconvert_exporter": "python",
   "pygments_lexer": "ipython3",
   "version": "3.8.12"
  }
 },
 "nbformat": 4,
 "nbformat_minor": 5
}
